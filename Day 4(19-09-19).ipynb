{
 "cells": [
  {
   "cell_type": "markdown",
   "metadata": {},
   "source": [
    "### String Boolean Function\n",
    "- true of false\n",
    "- islower()-- true if the string have all characters lower case\n",
    "- isupper() -- true if the sstring have all characters upper case\n",
    "- istitle( -- true if the string in title case\n",
    "- isnumeric() -- true if the string is numeric\n",
    "- isalpha() -- true if the string only has alphabets\n",
    "- isspace)-- true if string has only spaces"
   ]
  },
  {
   "cell_type": "code",
   "execution_count": 2,
   "metadata": {},
   "outputs": [
    {
     "name": "stdout",
     "output_type": "stream",
     "text": [
      "True\n",
      "False\n"
     ]
    }
   ],
   "source": [
    "s1 = 'python'\n",
    "print(s1.islower())\n",
    "print(s1.isupper())"
   ]
  },
  {
   "cell_type": "code",
   "execution_count": 3,
   "metadata": {},
   "outputs": [
    {
     "name": "stdout",
     "output_type": "stream",
     "text": [
      "True\n"
     ]
    }
   ],
   "source": [
    "s1 = 'Python Prgram'\n",
    "print(s1.istitle())"
   ]
  },
  {
   "cell_type": "code",
   "execution_count": 4,
   "metadata": {},
   "outputs": [
    {
     "name": "stdout",
     "output_type": "stream",
     "text": [
      "True\n",
      "False\n"
     ]
    }
   ],
   "source": [
    "s1 = '123'\n",
    "s2 = 'Py123'\n",
    "print(s1.isnumeric())\n",
    "print(s2.isnumeric())"
   ]
  },
  {
   "cell_type": "code",
   "execution_count": 5,
   "metadata": {},
   "outputs": [
    {
     "name": "stdout",
     "output_type": "stream",
     "text": [
      "False\n",
      "True\n"
     ]
    }
   ],
   "source": [
    "s1 = 'py123'\n",
    "s2 = 'Python'\n",
    "print(s1.isalpha())\n",
    "print(s2.isalpha())"
   ]
  },
  {
   "cell_type": "markdown",
   "metadata": {},
   "source": [
    "### STring Methods\n",
    "- split() -- returns the list of strings seperated by whitespace"
   ]
  },
  {
   "cell_type": "code",
   "execution_count": 6,
   "metadata": {},
   "outputs": [
    {
     "name": "stdout",
     "output_type": "stream",
     "text": [
      "['python', 'learn', 'made', 'easy']\n"
     ]
    }
   ],
   "source": [
    "s1 = 'python learn made easy'\n",
    "print(s1.split()) # defaut is white space "
   ]
  },
  {
   "cell_type": "code",
   "execution_count": 7,
   "metadata": {},
   "outputs": [
    {
     "name": "stdout",
     "output_type": "stream",
     "text": [
      "['python le', 'rn m', 'de e', 'sy']\n"
     ]
    }
   ],
   "source": [
    "s1 = 'python learn made easy'\n",
    "print(s1.split('a'))"
   ]
  },
  {
   "cell_type": "code",
   "execution_count": 8,
   "metadata": {},
   "outputs": [
    {
     "name": "stdout",
     "output_type": "stream",
     "text": [
      "python-learn-made-easy\n"
     ]
    }
   ],
   "source": [
    "print(s1.replace(' ','-'))"
   ]
  },
  {
   "cell_type": "code",
   "execution_count": 10,
   "metadata": {},
   "outputs": [
    {
     "name": "stdout",
     "output_type": "stream",
     "text": [
      "python le@rn m@de e@sy\n"
     ]
    }
   ],
   "source": [
    "print(s1.replace('a','@'))"
   ]
  },
  {
   "cell_type": "code",
   "execution_count": 12,
   "metadata": {},
   "outputs": [
    {
     "name": "stdout",
     "output_type": "stream",
     "text": [
      "p,y,t,h,o,n\n"
     ]
    }
   ],
   "source": [
    "s1 = 'python'\n",
    "print(\",\".join(s1))"
   ]
  },
  {
   "cell_type": "markdown",
   "metadata": {},
   "source": [
    "### string Formatting\n",
    "- classic version\n",
    "- Current Version Python"
   ]
  },
  {
   "cell_type": "code",
   "execution_count": 14,
   "metadata": {},
   "outputs": [
    {
     "name": "stdout",
     "output_type": "stream",
     "text": [
      "python programming \n"
     ]
    }
   ],
   "source": [
    "# classic Version(c or c++)\n",
    "l1 = ['python','programming']\n",
    "print('%s %s ' % (l1[0],l1[1]))"
   ]
  },
  {
   "cell_type": "code",
   "execution_count": 19,
   "metadata": {},
   "outputs": [
    {
     "name": "stdout",
     "output_type": "stream",
     "text": [
      "1 2 \n"
     ]
    }
   ],
   "source": [
    "l1 = [1,2]\n",
    "print('%d %d ' % (l1[0],l1[1]))"
   ]
  },
  {
   "cell_type": "code",
   "execution_count": 17,
   "metadata": {},
   "outputs": [
    {
     "name": "stdout",
     "output_type": "stream",
     "text": [
      "list item 0 :python \n",
      "List item 1 : programming\n"
     ]
    }
   ],
   "source": [
    "#.format\n",
    "print(\"list item 0 :{0} \\nList item 1 : {1}\".format(l1[0],l1[1]))"
   ]
  },
  {
   "cell_type": "code",
   "execution_count": 18,
   "metadata": {},
   "outputs": [
    {
     "name": "stdout",
     "output_type": "stream",
     "text": [
      "1 2 3 4\n"
     ]
    }
   ],
   "source": [
    "l1 = [1,2,3,4]\n",
    "print('{0} {1} {2} {3}'.format(l1[0],l1[1],l1[2],l1[3]))"
   ]
  },
  {
   "cell_type": "markdown",
   "metadata": {},
   "source": [
    "### Data Structures\n",
    "- List\n",
    "- Tuples\n",
    "- Dictionaries"
   ]
  },
  {
   "cell_type": "markdown",
   "metadata": {},
   "source": [
    "### Dictionaries\n",
    "- It works on concept of Unique Data\n",
    "- Key Value is the unique identifier a value\n",
    "- Each key is seperated from Value colon(:)\n",
    "- Each key and value is seperated by Comma(,)\n",
    "- Dictinaries are enclosed with curly brackets{}"
   ]
  },
  {
   "cell_type": "code",
   "execution_count": 20,
   "metadata": {},
   "outputs": [
    {
     "name": "stdout",
     "output_type": "stream",
     "text": [
      "{'Name': 'divya', 'email': 'abd@gmail.com', 'pin': '50000'}\n"
     ]
    }
   ],
   "source": [
    "d1 = {'Name':'divya','email':'abd@gmail.com','pin':'50000'}\n",
    "print(d1)"
   ]
  },
  {
   "cell_type": "code",
   "execution_count": 25,
   "metadata": {},
   "outputs": [],
   "source": [
    "d1['email'] = 'xyz@gamil.com' #update the value using key"
   ]
  },
  {
   "cell_type": "code",
   "execution_count": 24,
   "metadata": {},
   "outputs": [
    {
     "data": {
      "text/plain": [
       "'divya'"
      ]
     },
     "execution_count": 24,
     "metadata": {},
     "output_type": "execute_result"
    }
   ],
   "source": [
    "d1['Name']  # access the specific key value"
   ]
  },
  {
   "cell_type": "code",
   "execution_count": 26,
   "metadata": {},
   "outputs": [
    {
     "data": {
      "text/plain": [
       "'xyz@gamil.com'"
      ]
     },
     "execution_count": 26,
     "metadata": {},
     "output_type": "execute_result"
    }
   ],
   "source": [
    "d1['email']"
   ]
  },
  {
   "cell_type": "code",
   "execution_count": 27,
   "metadata": {},
   "outputs": [
    {
     "data": {
      "text/plain": [
       "dict_keys(['Name', 'email', 'pin'])"
      ]
     },
     "execution_count": 27,
     "metadata": {},
     "output_type": "execute_result"
    }
   ],
   "source": [
    "# l1= d1.keys()\n",
    "#print(l1)\n",
    "d1.keys() # returns all the distionary key objects"
   ]
  },
  {
   "cell_type": "code",
   "execution_count": 28,
   "metadata": {},
   "outputs": [
    {
     "data": {
      "text/plain": [
       "dict_values(['divya', 'xyz@gamil.com', '50000'])"
      ]
     },
     "execution_count": 28,
     "metadata": {},
     "output_type": "execute_result"
    }
   ],
   "source": [
    "d1.values() # returns all the values"
   ]
  },
  {
   "cell_type": "code",
   "execution_count": 29,
   "metadata": {},
   "outputs": [],
   "source": [
    "del d1['pin']"
   ]
  },
  {
   "cell_type": "code",
   "execution_count": 30,
   "metadata": {},
   "outputs": [
    {
     "data": {
      "text/plain": [
       "{'Name': 'divya', 'email': 'xyz@gamil.com'}"
      ]
     },
     "execution_count": 30,
     "metadata": {},
     "output_type": "execute_result"
    }
   ],
   "source": [
    "d1\n"
   ]
  },
  {
   "cell_type": "code",
   "execution_count": 31,
   "metadata": {},
   "outputs": [],
   "source": [
    "del d1"
   ]
  },
  {
   "cell_type": "code",
   "execution_count": 32,
   "metadata": {},
   "outputs": [
    {
     "ename": "NameError",
     "evalue": "name 'd1' is not defined",
     "output_type": "error",
     "traceback": [
      "\u001b[1;31m---------------------------------------------------------------------------\u001b[0m",
      "\u001b[1;31mNameError\u001b[0m                                 Traceback (most recent call last)",
      "\u001b[1;32m<ipython-input-32-2d3a24957153>\u001b[0m in \u001b[0;36m<module>\u001b[1;34m\u001b[0m\n\u001b[1;32m----> 1\u001b[1;33m \u001b[0md1\u001b[0m\u001b[1;33m\u001b[0m\u001b[1;33m\u001b[0m\u001b[0m\n\u001b[0m",
      "\u001b[1;31mNameError\u001b[0m: name 'd1' is not defined"
     ]
    }
   ],
   "source": [
    "d1"
   ]
  },
  {
   "cell_type": "markdown",
   "metadata": {},
   "source": [
    "### Contact Application\n",
    "- Adding a contact details\n",
    "- Search the contact details from the dictinary\n",
    "- list all the contacts(merge/input)\n",
    "     - Name 1 :value\n",
    "     - Name 2 :value\n",
    "- Modify or update the contact details\n",
    "- Delete the contact details\n"
   ]
  },
  {
   "cell_type": "code",
   "execution_count": 54,
   "metadata": {},
   "outputs": [
    {
     "name": "stdout",
     "output_type": "stream",
     "text": [
      "divya Contacts are added successfully\n",
      "pinku Contacts are added successfully\n",
      "divya Contact is already Exists\n"
     ]
    }
   ],
   "source": [
    "contacts = {} # empty Dict Object(object name is contacts)\n",
    "# lets create a function for add contact details\n",
    "def addContact(name,phno):\n",
    "    if name not in contacts: #condition  to check name already exists or not\n",
    "        contacts[name] = phno\n",
    "        print(name,'Contacts are added successfully')\n",
    "    else:\n",
    "        print(name,'Contact is already Exists')\n",
    "    return\n",
    "addContact('divya','9478991234')\n",
    "addContact('pinku','7648182838')\n",
    "addContact('divya','7664383121')\n"
   ]
  },
  {
   "cell_type": "code",
   "execution_count": 38,
   "metadata": {},
   "outputs": [
    {
     "name": "stdout",
     "output_type": "stream",
     "text": [
      "divya : 9478991234\n",
      "ramya doesnt exists \n",
      "rani doesnt exists \n",
      "pinku : 7648182838\n"
     ]
    }
   ],
   "source": [
    "\n",
    "def  searchContact(name):\n",
    "    if name in contacts:\n",
    "        print(name, ':',contacts[name])\n",
    "    else:\n",
    "        print('{0} doesnt exists '.format(name))\n",
    "        # print('%s doesnt exists ' % name)\n",
    "    return\n",
    "searchContact('divya')\n",
    "searchContact('ramya')\n",
    "searchContact('rani')\n",
    "searchContact('pinku')"
   ]
  },
  {
   "cell_type": "code",
   "execution_count": 45,
   "metadata": {},
   "outputs": [
    {
     "name": "stdout",
     "output_type": "stream",
     "text": [
      "3 contacts are added\n"
     ]
    }
   ],
   "source": [
    "# import new contact details\n",
    "# merge the previous details with new details\n",
    "def importContacts(newcontacts):\n",
    "    contacts.update(newcontacts)\n",
    "    print(len(newcontacts.keys()),'contacts are added')\n",
    "    return\n",
    "newcontacts = {'ramya':7454648474,'rani':8122541212,'sweety':9949494949}\n",
    "importContacts(newcontacts)\n"
   ]
  },
  {
   "cell_type": "code",
   "execution_count": 47,
   "metadata": {},
   "outputs": [
    {
     "name": "stdout",
     "output_type": "stream",
     "text": [
      "Divya doesnt exists\n",
      "rani contacts upadted successfully\n"
     ]
    }
   ],
   "source": [
    "def modifyContact(name,phone):\n",
    "    if name in contacts:\n",
    "        contacts[name] = phone\n",
    "        print(name,'contacts upadted successfully')\n",
    "    else:\n",
    "        print(name,'doesnt exists')\n",
    "    return\n",
    "modifyContact('Divya',948567829)\n",
    "modifyContact('rani',7656767676)"
   ]
  },
  {
   "cell_type": "code",
   "execution_count": 48,
   "metadata": {},
   "outputs": [
    {
     "data": {
      "text/plain": [
       "{'divya': '9478991234',\n",
       " 'pinku': '7648182838',\n",
       " 'ramya': 7454648474,\n",
       " 'rani': 7656767676,\n",
       " 'sweety': 9949494949}"
      ]
     },
     "execution_count": 48,
     "metadata": {},
     "output_type": "execute_result"
    }
   ],
   "source": [
    "contacts\n"
   ]
  },
  {
   "cell_type": "code",
   "execution_count": 52,
   "metadata": {},
   "outputs": [
    {
     "name": "stdout",
     "output_type": "stream",
     "text": [
      "divya doesnt exists\n",
      "ratnam doesnt exists\n"
     ]
    }
   ],
   "source": [
    "def deleteContact(name):\n",
    "    if name in contacts:\n",
    "        del contacts[name]\n",
    "        print(name,'deleted successfully')\n",
    "    else:\n",
    "        print(name,'doesnt exists')\n",
    "    return\n",
    "deleteContact('divya')\n",
    "deleteContact('ratnam')"
   ]
  },
  {
   "cell_type": "code",
   "execution_count": 53,
   "metadata": {},
   "outputs": [
    {
     "data": {
      "text/plain": [
       "{'pinku': '7648182838',\n",
       " 'ramya': 7454648474,\n",
       " 'rani': 7656767676,\n",
       " 'sweety': 9949494949}"
      ]
     },
     "execution_count": 53,
     "metadata": {},
     "output_type": "execute_result"
    }
   ],
   "source": [
    "contacts"
   ]
  },
  {
   "cell_type": "markdown",
   "metadata": {},
   "source": [
    "### tuples\n",
    "- tuples enclosed with Paranthesis()\n",
    "\n",
    "### differences between tuples and list\n",
    "     - List are mutable-- can be changed or modified\n",
    "         - Can read and write the data\n",
    "     - Tuples are immutable --- cannot be modified or changed ,tuple object doesnt support the item assignment\n",
    "         -Can only read data"
   ]
  },
  {
   "cell_type": "code",
   "execution_count": 55,
   "metadata": {},
   "outputs": [
    {
     "data": {
      "text/plain": [
       "(1, 2, 4, 5)"
      ]
     },
     "execution_count": 55,
     "metadata": {},
     "output_type": "execute_result"
    }
   ],
   "source": [
    "t1 = (1,2,4,5)\n",
    "t1"
   ]
  },
  {
   "cell_type": "code",
   "execution_count": 60,
   "metadata": {},
   "outputs": [
    {
     "name": "stdout",
     "output_type": "stream",
     "text": [
      "(1, 2, 4, 5)\n"
     ]
    }
   ],
   "source": [
    "print(t1)"
   ]
  },
  {
   "cell_type": "code",
   "execution_count": 59,
   "metadata": {},
   "outputs": [
    {
     "ename": "TypeError",
     "evalue": "'tuple' object does not support item assignment",
     "output_type": "error",
     "traceback": [
      "\u001b[1;31m---------------------------------------------------------------------------\u001b[0m",
      "\u001b[1;31mTypeError\u001b[0m                                 Traceback (most recent call last)",
      "\u001b[1;32m<ipython-input-59-6a6abe27e60f>\u001b[0m in \u001b[0;36m<module>\u001b[1;34m\u001b[0m\n\u001b[1;32m----> 1\u001b[1;33m \u001b[0mt1\u001b[0m\u001b[1;33m[\u001b[0m\u001b[1;36m2\u001b[0m\u001b[1;33m]\u001b[0m \u001b[1;33m=\u001b[0m \u001b[1;36m7\u001b[0m\u001b[1;33m\u001b[0m\u001b[1;33m\u001b[0m\u001b[0m\n\u001b[0m",
      "\u001b[1;31mTypeError\u001b[0m: 'tuple' object does not support item assignment"
     ]
    }
   ],
   "source": [
    "t1[2] = 7"
   ]
  },
  {
   "cell_type": "code",
   "execution_count": 61,
   "metadata": {},
   "outputs": [
    {
     "name": "stdout",
     "output_type": "stream",
     "text": [
      "(2, 1)\n"
     ]
    }
   ],
   "source": [
    "print(t1[1::-1])"
   ]
  },
  {
   "cell_type": "markdown",
   "metadata": {},
   "source": [
    "### Standard Libraries\n",
    " \n",
    "- Regular Expressions\n",
    "    - To validate the Indian Mobile Number\n",
    "    - to validate the EmailId\n",
    "    - To Validate the username\n",
    "    - To Validate the Password\n",
    "- Understanding of Regular Expressions\n",
    "    - [0-9] -- Any digit matching\n",
    "    - [a-z] ---Any lower case matching\n",
    "    - [A-Z] --Any Uppercase matching\n",
    "    \n",
    " "
   ]
  },
  {
   "cell_type": "code",
   "execution_count": 65,
   "metadata": {},
   "outputs": [
    {
     "name": "stdout",
     "output_type": "stream",
     "text": [
      "True\n",
      "False\n"
     ]
    }
   ],
   "source": [
    "# function to test the two digit number as input\n",
    "# True -- Inut two digit Number\n",
    "# False -- Input not a two digit nymber\n",
    "\n",
    "import re\n",
    "def twoDigitMatching(n):\n",
    "    pattern = '^[0-9]{2}$'\n",
    "    n = str(n)    # str() converts input into str format\n",
    "    if re.match(pattern,n):\n",
    "        return True\n",
    "    return False\n",
    "print(twoDigitMatching(12)) # true\n",
    "print(twoDigitMatching(123)) # False\n"
   ]
  },
  {
   "cell_type": "code",
   "execution_count": 66,
   "metadata": {},
   "outputs": [
    {
     "name": "stdout",
     "output_type": "stream",
     "text": [
      "False\n",
      "False\n",
      "True\n"
     ]
    }
   ],
   "source": [
    "# Regular exression for Username\n",
    "# Username -- should contains lower and upper case characters\n",
    "# Length --Min 5 Max 12\n",
    "\n",
    "def validateUsername(s):\n",
    "    pattern = '^[a-zA-Z]{6,12}$'\n",
    "    if re.match(pattern,s):\n",
    "        return True\n",
    "    return False\n",
    "print(validateUsername('divya')) #false\n",
    "print(validateUsername('pinku')) # false\n",
    "print(validateUsername('elizabeth')) #true"
   ]
  },
  {
   "cell_type": "markdown",
   "metadata": {},
   "source": [
    "### Regular Expression\n",
    "- Regular Expression for RollNumber\n",
    "    - example : 1521A0501 #valid\n",
    "    - example : 1621A0574 # not valid\n",
    "- Regular Expression for pwd\n",
    "    - Parameters - len Min 6 Max 10\n",
    "    - Accept Lower case,upper case ,Digits and spl (@,!,#)\n",
    "    - Example :pass123@21 # valid\n",
    "    - Example : Pass12*21#Not valid\n",
    "    "
   ]
  },
  {
   "cell_type": "code",
   "execution_count": 79,
   "metadata": {
    "scrolled": true
   },
   "outputs": [
    {
     "name": "stdout",
     "output_type": "stream",
     "text": [
      "1521A0501 valid\n",
      "None\n"
     ]
    }
   ],
   "source": [
    "import re\n",
    "def validateRollNo(n):\n",
    "    pattern = '^[0-9A-Z]{1,12}$'\n",
    "    n = str(n)\n",
    "    if re.match(pattern,n):\n",
    "        print(n,'valid')\n",
    "    #else:\n",
    "       # print(n,'notvalid')\n",
    "    return\n",
    "print(validateRollNo('1521A0501'))\n",
    "#print(validateRollNo('1621A0574'))\n",
    "    "
   ]
  },
  {
   "cell_type": "markdown",
   "metadata": {},
   "source": [
    "### regular Expression for Indiand Mobile\n",
    "- 10 Digit Number\n",
    "     - first Number is starts from [6-9]\n",
    "     - Rest of 9 number is between [0-9]\n",
    "            - example : 9851741520 # true\n",
    "            - example : 5978201520 # false\n",
    "- 11 Digit Number \n",
    "     - First number can be )\n",
    "     - second number can be [6-9]\n",
    "     -REST OF 9 NUMBERs is betweem [0-9]\n",
    "           - example : 09851741520 # true\n",
    "           - example : 99851741520 # false\n",
    "- 13 Digit Number\n",
    "     - First number can be +\n",
    "     - second number 9\n",
    "     - third number 1\n",
    "     - fourth number[6-9]\n",
    "     - Rest of Number [0-9]\n",
    "           - example : +919988552266 # true\n",
    "           - example : +918855266224 #true"
   ]
  },
  {
   "cell_type": "code",
   "execution_count": null,
   "metadata": {},
   "outputs": [],
   "source": [
    "# rule 1 : ^[6-9][0-9]{9}$\n",
    "# rule 2 : ^[0][6-9][0-9]{9}$\n",
    "# rule 3 : ^[+][9][1][6-9][0-9]{9}$"
   ]
  },
  {
   "cell_type": "code",
   "execution_count": 74,
   "metadata": {},
   "outputs": [
    {
     "data": {
      "text/plain": [
       "True"
      ]
     },
     "execution_count": 74,
     "metadata": {},
     "output_type": "execute_result"
    }
   ],
   "source": [
    "import re\n",
    "def validateIndianPhone(n):\n",
    "    pattern = '^[6-9][0-9]{9}$|^[0][6-9][0-9]{9}$|^[+][9][1][6-9][0-9]{9}$'\n",
    "    n = str(n)\n",
    "    if re.match(pattern,n):\n",
    "        return True\n",
    "    return False\n",
    "validateIndianPhone('+919988774455') #true"
   ]
  },
  {
   "cell_type": "markdown",
   "metadata": {},
   "source": [
    "### Validate the emailId\n",
    "- Example : username@DomainName.extension\n",
    "- Example : dsps@gmail.com\n",
    "- Username : \n",
    "     - len of string  will be [6-15]\n",
    "     - no spl characters except Underscore(_)\n",
    "     - user name should not begins with underscore(_) and dot(.)\n",
    "     - all   charactersset Digits,lower case and upper case\n",
    "           - example :Anil_1889\n",
    "- DomainName\n",
    "     - Len of string will be [3-18]\n",
    "     - No spls characters\n",
    "     - characters set will be Digits, lower case and upper case\n",
    "            - Example :gmail,hotmail,rediff,ymail etc...\n",
    "- Extensions \n",
    "     - Len of string will be [2-4]\n",
    "     - No spls Characters allowed\n",
    "     - Character set will lower case characters\n",
    "            - Example : com in au uk\n",
    "           "
   ]
  },
  {
   "cell_type": "code",
   "execution_count": null,
   "metadata": {},
   "outputs": [],
   "source": [
    "# user name RE:^[0-9a-zA-Z][0-9a-zA-Z_.]{5,14}$\n",
    "# domain Name RE:^[a-z0-9]{3,18}$\n",
    "# Extension RE: ^[a-z]{2,4}$"
   ]
  },
  {
   "cell_type": "code",
   "execution_count": 81,
   "metadata": {},
   "outputs": [
    {
     "data": {
      "text/plain": [
       "True"
      ]
     },
     "execution_count": 81,
     "metadata": {},
     "output_type": "execute_result"
    }
   ],
   "source": [
    "def validateEmail(email):\n",
    "    pattern='^[0-9a-zA-Z][0-9a-zA-Z_.]{5,14}[@][a-z0-9]{3,18}[.][a-z]{2,4}$'\n",
    "    if re.match(pattern,email):\n",
    "        return True\n",
    "    return False\n",
    "validateEmail('anilkuma1889@hotmail.com')"
   ]
  },
  {
   "cell_type": "markdown",
   "metadata": {},
   "source": [
    "### Python Graphics\n",
    "- Lib turtle"
   ]
  },
  {
   "cell_type": "markdown",
   "metadata": {},
   "source": [
    "### Package,module and sub package\n",
    "- package is a set/collection of modules(single Python file.py)\n",
    "- module :  A collection of a single python file contains a group of files\n",
    "      - pacakge - > Sub package- > Modules - >  Functions - > statements\n",
    "      - import keyword is used to import the external lib packages into the python program\n",
    "      "
   ]
  },
  {
   "cell_type": "code",
   "execution_count": 82,
   "metadata": {},
   "outputs": [
    {
     "data": {
      "text/plain": [
       "123"
      ]
     },
     "execution_count": 82,
     "metadata": {},
     "output_type": "execute_result"
    }
   ],
   "source": [
    "import math #imorts all the function into python progrm\n",
    "math.floor(123.456)"
   ]
  },
  {
   "cell_type": "code",
   "execution_count": 83,
   "metadata": {},
   "outputs": [
    {
     "data": {
      "text/plain": [
       "124"
      ]
     },
     "execution_count": 83,
     "metadata": {},
     "output_type": "execute_result"
    }
   ],
   "source": [
    "math.ceil(123.456)"
   ]
  },
  {
   "cell_type": "code",
   "execution_count": 84,
   "metadata": {},
   "outputs": [
    {
     "data": {
      "text/plain": [
       "3628800"
      ]
     },
     "execution_count": 84,
     "metadata": {},
     "output_type": "execute_result"
    }
   ],
   "source": [
    "from math import factorial as fact  # will imports only specific function\n",
    "# as fact alias name\n",
    "fact(10)"
   ]
  },
  {
   "cell_type": "code",
   "execution_count": 85,
   "metadata": {},
   "outputs": [
    {
     "data": {
      "text/plain": [
       "5"
      ]
     },
     "execution_count": 85,
     "metadata": {},
     "output_type": "execute_result"
    }
   ],
   "source": [
    "from math import gcd as gcd\n",
    "gcd(10,15)"
   ]
  },
  {
   "cell_type": "code",
   "execution_count": 90,
   "metadata": {},
   "outputs": [
    {
     "name": "stdout",
     "output_type": "stream",
     "text": [
      "27 72 33 36 67 44 92 30 51 47 "
     ]
    }
   ],
   "source": [
    "#import random package\n",
    "import random\n",
    "# function to generate the N numbers in given range\n",
    "def generateRandNum(n,lb,ub):\n",
    "    for i in range(0,n):\n",
    "        print(random.randint(lb,ub),end=' ')\n",
    "    return\n",
    "generateRandNum(10,0,100)\n",
    "        \n",
    "              "
   ]
  },
  {
   "cell_type": "code",
   "execution_count": null,
   "metadata": {},
   "outputs": [],
   "source": [
    "# generate the one 4 digit number two limits\n",
    "# 1000.9999-1899"
   ]
  },
  {
   "cell_type": "code",
   "execution_count": null,
   "metadata": {},
   "outputs": [],
   "source": [
    "# create a simple game\n",
    "# Try to generate 20 numbers\n",
    "# Input : Number\n",
    "# Present : Congrats!!!\n",
    "# Not Present : try again"
   ]
  },
  {
   "cell_type": "code",
   "execution_count": 92,
   "metadata": {},
   "outputs": [
    {
     "name": "stdout",
     "output_type": "stream",
     "text": [
      "try again!!!\n"
     ]
    }
   ],
   "source": [
    "from random import randint as rdint\n",
    "def generateNumber(n,lb,ub):\n",
    "    li = []\n",
    "    for i in range(0,n):\n",
    "        li.append(rdint(lb,ub))\n",
    "    return li\n",
    "def check(n):\n",
    "    li = generateNumber(20,100,999)\n",
    "    if n in li:\n",
    "        print('congrats!!!')\n",
    "    else:\n",
    "        print('try again!!!') # if the input number is present the output will be congrats otherwise try again message will be displayed\n",
    "    return\n",
    "check(167)"
   ]
  },
  {
   "cell_type": "code",
   "execution_count": null,
   "metadata": {},
   "outputs": [],
   "source": [
    "import turtle as tt #alias name for package directly so you can use alias name for all the functions in tthe given package\n",
    "a1 = tt.Turtle()\n",
    "a1.backward(150)\n",
    "tt.done()"
   ]
  },
  {
   "cell_type": "code",
   "execution_count": null,
   "metadata": {},
   "outputs": [],
   "source": [
    "# draw the square\n",
    "import turtle as tt # generate the square using forward and right methods of turtle package\n",
    "a1 = tt.Turtle()\n",
    "a1.forward(150)\n",
    "a1.right(90)            \n",
    "a1.forward(150)\n",
    "a1.right(90)\n",
    "a1.forward(150)\n",
    "a1.right(90)\n",
    "a1.forward(150)\n",
    "a1.right(90)\n",
    "tt.done()\n",
    "\n",
    "\n"
   ]
  },
  {
   "cell_type": "code",
   "execution_count": null,
   "metadata": {},
   "outputs": [],
   "source": [
    "import turtle as t  # print in star\n",
    "a1 = t.Turtle()\n",
    "for i in range(40):\n",
    "    a1.forward(50)\n",
    "    a1.right(144)\n",
    "t.done()\n"
   ]
  },
  {
   "cell_type": "code",
   "execution_count": null,
   "metadata": {},
   "outputs": [],
   "source": []
  },
  {
   "cell_type": "code",
   "execution_count": null,
   "metadata": {},
   "outputs": [],
   "source": []
  },
  {
   "cell_type": "code",
   "execution_count": null,
   "metadata": {},
   "outputs": [],
   "source": []
  },
  {
   "cell_type": "code",
   "execution_count": null,
   "metadata": {},
   "outputs": [],
   "source": []
  },
  {
   "cell_type": "code",
   "execution_count": null,
   "metadata": {},
   "outputs": [],
   "source": []
  },
  {
   "cell_type": "code",
   "execution_count": null,
   "metadata": {},
   "outputs": [],
   "source": []
  }
 ],
 "metadata": {
  "kernelspec": {
   "display_name": "Python 3",
   "language": "python",
   "name": "python3"
  },
  "language_info": {
   "codemirror_mode": {
    "name": "ipython",
    "version": 3
   },
   "file_extension": ".py",
   "mimetype": "text/x-python",
   "name": "python",
   "nbconvert_exporter": "python",
   "pygments_lexer": "ipython3",
   "version": "3.7.3"
  }
 },
 "nbformat": 4,
 "nbformat_minor": 2
}
